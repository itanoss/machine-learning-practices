{
 "cells": [
  {
   "cell_type": "code",
   "execution_count": null,
   "metadata": {
    "collapsed": false
   },
   "outputs": [
    {
     "name": "stdout",
     "output_type": "stream",
     "text": [
      "Downloading http://yann.lecun.com/exdb/mnist/train-images-idx3-ubyte.gz\n",
      "Extracting /tmp/tmpfnvtir/train-images-idx3-ubyte.gz\n"
     ]
    },
    {
     "name": "stderr",
     "output_type": "stream",
     "text": [
      "/opt/conda/envs/python2/lib/python2.7/site-packages/ipykernel/__main__.py:39: VisibleDeprecationWarning: converting an array with ndim > 0 to an index will result in an error in the future\n"
     ]
    },
    {
     "name": "stdout",
     "output_type": "stream",
     "text": [
      "Downloading http://yann.lecun.com/exdb/mnist/train-labels-idx1-ubyte.gz\n",
      "Extracting /tmp/tmpfnvtir/train-labels-idx1-ubyte.gz\n",
      "Downloading http://yann.lecun.com/exdb/mnist/t10k-images-idx3-ubyte.gz\n",
      "Extracting /tmp/tmpfnvtir/t10k-images-idx3-ubyte.gz\n",
      "Downloading http://yann.lecun.com/exdb/mnist/t10k-labels-idx1-ubyte.gz\n",
      "Extracting /tmp/tmpfnvtir/t10k-labels-idx1-ubyte.gz\n",
      "0 0.000812447992238 [-0.10490379  0.20937486 -0.03745797 -0.08013751  0.05707448  0.26724944\n",
      " -0.02373316  0.16307193 -0.38547993 -0.06505828]\n",
      "1 0.000670490481637 [-0.15096277  0.25475293 -0.02313577 -0.11926677  0.06135206  0.46683329\n",
      " -0.03131013  0.25046128 -0.61695719 -0.09176741]\n",
      "2 0.000790696035732 [-0.18910453  0.27472144 -0.00133357 -0.1469675   0.05725172  0.62787056\n",
      " -0.03981382  0.3263284  -0.7872206  -0.12173354]\n",
      "3 0.000616496151144 [-0.22107971  0.30412924  0.01185172 -0.17160635  0.05190176  0.76594687\n",
      " -0.05277437  0.38481131 -0.92593002 -0.14725217]\n",
      "4 0.000440059141679 [-0.25745949  0.30929235  0.03084355 -0.194474    0.04290669  0.88992393\n",
      " -0.06494599  0.45185822 -1.04119754 -0.16674975]\n",
      "Optimization finished!\n",
      "Accuracy: 0.9216\n",
      "Label: [3]\n",
      "Prediction: [3]\n"
     ]
    },
    {
     "data": {
      "image/png": "[encoded data removed]",
      "text/plain": [
       "<matplotlib.figure.Figure at 0x7f1c6e0b3f10>"
      ]
     },
     "metadata": {},
     "output_type": "display_data"
    },
    {
     "name": "stdout",
     "output_type": "stream",
     "text": [
      "Label: [9]\n",
      "Prediction: [9]\n"
     ]
    },
    {
     "data": {
      "image/png": "[encoded data removed]",
      "text/plain": [
       "<matplotlib.figure.Figure at 0x7f1c6e269f50>"
      ]
     },
     "metadata": {},
     "output_type": "display_data"
    },
    {
     "name": "stdout",
     "output_type": "stream",
     "text": [
      "Label: [2]\n",
      "Prediction: [2]\n"
     ]
    },
    {
     "data": {
      "image/png": "[encoded data removed]",
      "text/plain": [
       "<matplotlib.figure.Figure at 0x7f1c6e14f110>"
      ]
     },
     "metadata": {},
     "output_type": "display_data"
    }
   ],
   "source": [
    "import numpy, os, urllib, gzip, tempfile, random\n",
    "import tensorflow as tf\n",
    "import matplotlib.pyplot as plt\n",
    "\n",
    "\n",
    "SOURCE_URL = 'http://yann.lecun.com/exdb/mnist/'\n",
    "TRAIN_IMAGES = 'train-images-idx3-ubyte.gz'\n",
    "TRAIN_LABELS = 'train-labels-idx1-ubyte.gz'\n",
    "TEST_IMAGES = 't10k-images-idx3-ubyte.gz'\n",
    "TEST_LABELS = 't10k-labels-idx1-ubyte.gz'\n",
    "\n",
    "VALIDATION_SIZE = 5000\n",
    "\n",
    "def _read32(bytestream):\n",
    "    dt = numpy.dtype(numpy.uint32).newbyteorder('>')\n",
    "    return numpy.frombuffer(bytestream.read(4), dtype=dt)\n",
    "\n",
    "def download(filename, workdir):\n",
    "    if not os.path.exists(workdir):\n",
    "        os.mkdir(workdir)\n",
    "\n",
    "    filepath = os.path.join(workdir, filename)\n",
    "\n",
    "    print 'Downloading', SOURCE_URL + filename\n",
    "    urllib.urlretrieve(SOURCE_URL + filename, filename=filepath)\n",
    "    return filepath\n",
    "\n",
    "def extract_images(filepath):\n",
    "    print 'Extracting', filepath\n",
    "    with gzip.open(filepath) as bytestream:\n",
    "        magic = _read32(bytestream)\n",
    "        if magic != 2051:\n",
    "            raise ValueError('Invalid magic number %d in MNIST image file: %s' % (magic, filepath))\n",
    "        num_images = _read32(bytestream)\n",
    "        rows = _read32(bytestream)\n",
    "        cols = _read32(bytestream)\n",
    "        buf = bytestream.read(rows * cols * num_images)\n",
    "        data = numpy.frombuffer(buf, dtype=numpy.uint8)\n",
    "        data = data.reshape(num_images, rows, cols, 1)\n",
    "\n",
    "        # Reshape for NN\n",
    "        data = data.reshape(data.shape[0], data.shape[1] * data.shape[2])\n",
    "        data = data.astype(numpy.float32)\n",
    "        data = numpy.multiply(data, 1. / 255.)\n",
    "        return data\n",
    "\n",
    "def extract_labels(filepath):\n",
    "    print 'Extracting', filepath\n",
    "    with gzip.open(filepath) as bytestream:\n",
    "        magic = _read32(bytestream)\n",
    "        if magic != 2049:\n",
    "            raise ValueError('Invalid magic number %d in MNIST image file: %s' % (magic, filepath))\n",
    "        num_items = _read32(bytestream)\n",
    "        buf = bytestream.read(num_items)\n",
    "        labels = numpy.frombuffer(buf, dtype=numpy.uint8)\n",
    "\n",
    "        num_labels = labels.shape[0]\n",
    "        num_classes = 10    # 0..9\n",
    "        index_offset = numpy.arange(num_labels) * num_classes\n",
    "        labels_one_hot = numpy.zeros((num_labels, num_classes))\n",
    "        labels_one_hot.flat[index_offset + labels.ravel()] = 1\n",
    "        return labels_one_hot\n",
    "\n",
    "workdir = tempfile.mkdtemp()\n",
    "train_images = extract_images(download(TRAIN_IMAGES, workdir))\n",
    "train_labels = extract_labels(download(TRAIN_LABELS, workdir))\n",
    "test_images = extract_images(download(TEST_IMAGES, workdir))\n",
    "test_labels = extract_labels(download(TEST_LABELS, workdir))\n",
    "validation_images = train_images[:VALIDATION_SIZE]\n",
    "validation_labels = train_labels[:VALIDATION_SIZE]\n",
    "train_images = train_images[VALIDATION_SIZE:]\n",
    "train_labels = train_labels[VALIDATION_SIZE:]\n",
    "\n",
    "assert len(train_labels) == len(train_images)\n",
    "assert len(validation_labels) == len(validation_images)\n",
    "assert len(test_labels) == len(test_images)\n",
    "num_train_data = len(train_labels)\n",
    "num_validation_data = len(validation_labels)\n",
    "num_test_data = len(test_labels)\n",
    "\n",
    "\n",
    "learning_rate = .1\n",
    "training_epochs = 5\n",
    "batch_size = 100\n",
    "\n",
    "assert num_train_data % batch_size == 0\n",
    "\n",
    "x = tf.placeholder(\"float\", [None, 784])    # image of shape 28 x 28 = 784\n",
    "y = tf.placeholder(\"float\", [None, 10])     # 0..9 digits\n",
    "\n",
    "W = tf.Variable(tf.zeros([784, 10]))\n",
    "b = tf.Variable(tf.zeros([10]))\n",
    "\n",
    "activation = tf.nn.softmax(tf.matmul(x, W) + b)\n",
    "cost = tf.reduce_mean(-tf.reduce_sum(y*tf.log(activation), reduction_indices=1))\n",
    "optimizer = tf.train.GradientDescentOptimizer(learning_rate).minimize(cost)\n",
    "\n",
    "init = tf.initialize_all_variables()\n",
    "\n",
    "with tf.Session() as sess:\n",
    "    sess.run(init)\n",
    "\n",
    "    for epoch in range(training_epochs):\n",
    "\n",
    "        # Shuffle for each epoch\n",
    "        perm = numpy.arange(num_train_data)\n",
    "        numpy.random.shuffle(perm)\n",
    "        train_images = train_images[perm]\n",
    "        train_labels = train_labels[perm]\n",
    "\n",
    "        average_cost = .0\n",
    "        total_batch = int(num_train_data / batch_size)\n",
    "        for i in range(total_batch):\n",
    "            batch_xs = train_images[i*batch_size:(i+1)*batch_size]\n",
    "            batch_ys = train_labels[i*batch_size:(i+1)*batch_size]\n",
    "            sess.run(optimizer, feed_dict={x: batch_xs, y:batch_ys})\n",
    "\n",
    "        average_cost += sess.run(cost, feed_dict={x: batch_xs, y:batch_ys}) / total_batch\n",
    "        print epoch, average_cost, sess.run(b)\n",
    "\n",
    "    print 'Optimization finished!'\n",
    "\n",
    "    correct_prediction = tf.equal(tf.argmax(activation, 1), tf.argmax(y, 1))\n",
    "    accuracy = tf.reduce_mean(tf.cast(correct_prediction, \"float\"))\n",
    "    print 'Accuracy:', accuracy.eval({x: validation_images, y: validation_labels})\n",
    "\n",
    "    for _ in range(10):\n",
    "        # Get one and predict\n",
    "        r = random.randint(0, num_test_data-1)\n",
    "        print 'Label:', sess.run(tf.argmax(test_labels[r:r+1], 1))\n",
    "        print 'Prediction:', sess.run(tf.argmax(activation, 1), {x: test_images[r:r+1]})\n",
    "\n",
    "        # Show the image\n",
    "        plt.imshow(test_images[r:r+1].reshape(28, 28), cmap='Greys', interpolation='nearest')\n",
    "        plt.show()\n",
    "\n",
    "\n",
    "# Clean up\n",
    "import shutil\n",
    "shutil.rmtree(workdir)"
   ]
  }
 ],
 "metadata": {
  "kernelspec": {
   "display_name": "Python 2",
   "language": "python",
   "name": "python2"
  },
  "language_info": {
   "codemirror_mode": {
    "name": "ipython",
    "version": 2
   },
   "file_extension": ".py",
   "mimetype": "text/x-python",
   "name": "python",
   "nbconvert_exporter": "python",
   "pygments_lexer": "ipython2",
   "version": "2.7.12"
  }
 },
 "nbformat": 4,
 "nbformat_minor": 1
}
